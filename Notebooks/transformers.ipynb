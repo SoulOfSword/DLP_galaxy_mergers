{
 "cells": [
  {
   "cell_type": "code",
   "execution_count": 1,
   "id": "002ffd23-8e36-46c0-aff0-811b7ba476f9",
   "metadata": {
    "scrolled": true
   },
   "outputs": [
    {
     "name": "stdout",
     "output_type": "stream",
     "text": [
      "Requirement already satisfied: timm in /Users/users/mahesh/.local/lib/python3.11/site-packages (1.0.15)\n",
      "Requirement already satisfied: torch in /Software/users/modules/9/software/anaconda3/2024.02/lib/python3.11/site-packages (from timm) (2.4.0)\n",
      "Requirement already satisfied: torchvision in /Software/users/modules/9/software/anaconda3/2024.02/lib/python3.11/site-packages (from timm) (0.19.0)\n",
      "Requirement already satisfied: pyyaml in /Software/users/modules/9/software/anaconda3/2024.02/lib/python3.11/site-packages (from timm) (6.0.1)\n",
      "Requirement already satisfied: huggingface_hub in /Users/users/mahesh/.local/lib/python3.11/site-packages (from timm) (0.29.3)\n",
      "Requirement already satisfied: safetensors in /Users/users/mahesh/.local/lib/python3.11/site-packages (from timm) (0.5.3)\n",
      "Requirement already satisfied: filelock in /Software/users/modules/9/software/anaconda3/2024.02/lib/python3.11/site-packages (from huggingface_hub->timm) (3.13.1)\n",
      "Requirement already satisfied: fsspec>=2023.5.0 in /Software/users/modules/9/software/anaconda3/2024.02/lib/python3.11/site-packages (from huggingface_hub->timm) (2023.10.0)\n",
      "Requirement already satisfied: packaging>=20.9 in /Software/users/modules/9/software/anaconda3/2024.02/lib/python3.11/site-packages (from huggingface_hub->timm) (23.1)\n",
      "Requirement already satisfied: requests in /Software/users/modules/9/software/anaconda3/2024.02/lib/python3.11/site-packages (from huggingface_hub->timm) (2.31.0)\n",
      "Requirement already satisfied: tqdm>=4.42.1 in /Software/users/modules/9/software/anaconda3/2024.02/lib/python3.11/site-packages (from huggingface_hub->timm) (4.65.0)\n",
      "Requirement already satisfied: typing-extensions>=3.7.4.3 in /Software/users/modules/9/software/anaconda3/2024.02/lib/python3.11/site-packages (from huggingface_hub->timm) (4.9.0)\n",
      "Requirement already satisfied: sympy in /Software/users/modules/9/software/anaconda3/2024.02/lib/python3.11/site-packages (from torch->timm) (1.12)\n",
      "Requirement already satisfied: networkx in /Software/users/modules/9/software/anaconda3/2024.02/lib/python3.11/site-packages (from torch->timm) (3.1)\n",
      "Requirement already satisfied: jinja2 in /Software/users/modules/9/software/anaconda3/2024.02/lib/python3.11/site-packages (from torch->timm) (3.1.3)\n",
      "Requirement already satisfied: nvidia-cuda-nvrtc-cu12==12.1.105 in /Software/users/modules/9/software/anaconda3/2024.02/lib/python3.11/site-packages (from torch->timm) (12.1.105)\n",
      "Requirement already satisfied: nvidia-cuda-runtime-cu12==12.1.105 in /Software/users/modules/9/software/anaconda3/2024.02/lib/python3.11/site-packages (from torch->timm) (12.1.105)\n",
      "Requirement already satisfied: nvidia-cuda-cupti-cu12==12.1.105 in /Software/users/modules/9/software/anaconda3/2024.02/lib/python3.11/site-packages (from torch->timm) (12.1.105)\n",
      "Requirement already satisfied: nvidia-cudnn-cu12==9.1.0.70 in /Software/users/modules/9/software/anaconda3/2024.02/lib/python3.11/site-packages (from torch->timm) (9.1.0.70)\n",
      "Requirement already satisfied: nvidia-cublas-cu12==12.1.3.1 in /Software/users/modules/9/software/anaconda3/2024.02/lib/python3.11/site-packages (from torch->timm) (12.1.3.1)\n",
      "Requirement already satisfied: nvidia-cufft-cu12==11.0.2.54 in /Software/users/modules/9/software/anaconda3/2024.02/lib/python3.11/site-packages (from torch->timm) (11.0.2.54)\n",
      "Requirement already satisfied: nvidia-curand-cu12==10.3.2.106 in /Software/users/modules/9/software/anaconda3/2024.02/lib/python3.11/site-packages (from torch->timm) (10.3.2.106)\n",
      "Requirement already satisfied: nvidia-cusolver-cu12==11.4.5.107 in /Software/users/modules/9/software/anaconda3/2024.02/lib/python3.11/site-packages (from torch->timm) (11.4.5.107)\n",
      "Requirement already satisfied: nvidia-cusparse-cu12==12.1.0.106 in /Software/users/modules/9/software/anaconda3/2024.02/lib/python3.11/site-packages (from torch->timm) (12.1.0.106)\n",
      "Requirement already satisfied: nvidia-nccl-cu12==2.20.5 in /Software/users/modules/9/software/anaconda3/2024.02/lib/python3.11/site-packages (from torch->timm) (2.20.5)\n",
      "Requirement already satisfied: nvidia-nvtx-cu12==12.1.105 in /Software/users/modules/9/software/anaconda3/2024.02/lib/python3.11/site-packages (from torch->timm) (12.1.105)\n",
      "Requirement already satisfied: triton==3.0.0 in /Software/users/modules/9/software/anaconda3/2024.02/lib/python3.11/site-packages (from torch->timm) (3.0.0)\n",
      "Requirement already satisfied: nvidia-nvjitlink-cu12 in /Software/users/modules/9/software/anaconda3/2024.02/lib/python3.11/site-packages (from nvidia-cusolver-cu12==11.4.5.107->torch->timm) (12.6.20)\n",
      "Requirement already satisfied: numpy in /Software/users/modules/9/software/anaconda3/2024.02/lib/python3.11/site-packages (from torchvision->timm) (1.26.4)\n",
      "Requirement already satisfied: pillow!=8.3.*,>=5.3.0 in /Software/users/modules/9/software/anaconda3/2024.02/lib/python3.11/site-packages (from torchvision->timm) (10.2.0)\n",
      "Requirement already satisfied: MarkupSafe>=2.0 in /Software/users/modules/9/software/anaconda3/2024.02/lib/python3.11/site-packages (from jinja2->torch->timm) (2.1.3)\n",
      "Requirement already satisfied: charset-normalizer<4,>=2 in /Software/users/modules/9/software/anaconda3/2024.02/lib/python3.11/site-packages (from requests->huggingface_hub->timm) (2.0.4)\n",
      "Requirement already satisfied: idna<4,>=2.5 in /Software/users/modules/9/software/anaconda3/2024.02/lib/python3.11/site-packages (from requests->huggingface_hub->timm) (3.4)\n",
      "Requirement already satisfied: urllib3<3,>=1.21.1 in /Software/users/modules/9/software/anaconda3/2024.02/lib/python3.11/site-packages (from requests->huggingface_hub->timm) (2.0.7)\n",
      "Requirement already satisfied: certifi>=2017.4.17 in /Software/users/modules/9/software/anaconda3/2024.02/lib/python3.11/site-packages (from requests->huggingface_hub->timm) (2025.1.31)\n",
      "Requirement already satisfied: mpmath>=0.19 in /Software/users/modules/9/software/anaconda3/2024.02/lib/python3.11/site-packages (from sympy->torch->timm) (1.3.0)\n",
      "Note: you may need to restart the kernel to use updated packages.\n"
     ]
    }
   ],
   "source": [
    "%pip install --user timm"
   ]
  },
  {
   "cell_type": "code",
   "execution_count": 2,
   "id": "6a6af88b-a93e-427c-8b07-39596e43986b",
   "metadata": {},
   "outputs": [],
   "source": [
    "#!pip show timm"
   ]
  },
  {
   "cell_type": "code",
   "execution_count": 3,
   "id": "f80c9a6f",
   "metadata": {},
   "outputs": [
    {
     "name": "stdout",
     "output_type": "stream",
     "text": [
      "['/net/virgo01/data/users/mahesh/DeepLearning/DLP_galaxy_mergers/Notebooks', '/Software/users/modules/9/software/anaconda3/2024.02/lib/python311.zip', '/Software/users/modules/9/software/anaconda3/2024.02/lib/python3.11', '/Software/users/modules/9/software/anaconda3/2024.02/lib/python3.11/lib-dynload', '', '/Users/users/mahesh/.local/lib/python3.11/site-packages', '/Software/users/modules/9/software/anaconda3/2024.02/lib/python3.11/site-packages', '/net/virgo01/data/users/mahesh/DeepLearning/DLP_galaxy_mergers/Scripts']\n"
     ]
    },
    {
     "name": "stderr",
     "output_type": "stream",
     "text": [
      "/net/virgo01/data/users/mahesh/DeepLearning/DLP_galaxy_mergers/Scripts/AkhilFunctions.py:9: FutureWarning: `torch.cuda.amp.GradScaler(args...)` is deprecated. Please use `torch.amp.GradScaler('cuda', args...)` instead.\n",
      "  scaler = GradScaler()\n"
     ]
    },
    {
     "name": "stdout",
     "output_type": "stream",
     "text": [
      "True good\n",
      "1 devices\n",
      "(24953159680, 25339101184)\n"
     ]
    }
   ],
   "source": [
    "import numpy as np\n",
    "import matplotlib.pyplot as plt\n",
    "import sys\n",
    "import os\n",
    "\n",
    "sys.path.append('/net/virgo01/data/users/mahesh/DeepLearning/DLP_galaxy_mergers/Scripts')\n",
    "print(sys.path)\n",
    "import DataCore_Akhil as DC\n",
    "import AkhilFunctions as AF\n",
    "import \n",
    "import plotting\n",
    "\n",
    "import torch\n",
    "print(f\"{torch.cuda.is_available()} good\")\n",
    "print(f\"{torch.cuda.device_count()} devices\")\n",
    "print(torch.cuda.mem_get_info())\n",
    "\n",
    "from torch.utils.data import Dataset, random_split\n",
    "from astropy.io import fits\n",
    "import torchvision\n",
    "import timm\n",
    "import torchvision.transforms.v2 as transforms\n",
    "import torch.nn as nn\n",
    "import torch.optim as optim\n",
    "from torch.utils.data import DataLoader, TensorDataset\n",
    "from tqdm import tqdm\n",
    "from sklearn.model_selection import train_test_split\n",
    "from torch.cuda.amp import autocast, GradScaler"
   ]
  },
  {
   "cell_type": "code",
   "execution_count": 4,
   "id": "05086d13",
   "metadata": {},
   "outputs": [],
   "source": [
    "datadir = \"/net/virgo01/data/users/mahesh/DeepLearning/data/\"\n",
    "labeldir = \"/net/virgo01/data/users/spirov/Deep/catalog_tng100_jwst_all_50sns.fits\"\n",
    "labels = fits.open(labeldir)[1]"
   ]
  },
  {
   "cell_type": "code",
   "execution_count": 5,
   "id": "eccb067d-82a6-45d2-8cb2-ebe5c6f368cd",
   "metadata": {},
   "outputs": [
    {
     "name": "stdout",
     "output_type": "stream",
     "text": [
      "0\n"
     ]
    }
   ],
   "source": [
    "mask1 = labels.data['is_major_merger'] == 0\n",
    "mask2 = labels.data['is_pre_merger'] == 0\n",
    "mask3 = labels.data['is_ongoing_merger'] == 1\n",
    "mask4 = labels.data['is_post_merger'] == 0\n",
    "print(len(labels.data[mask1 & mask2 & mask3 & mask4]))\n",
    "#print(len(labels.data[mask1]))"
   ]
  },
  {
   "cell_type": "markdown",
   "id": "d18cc214-1ed0-493c-83ef-b19743419ad0",
   "metadata": {},
   "source": [
    "major: 2383\n",
    "\n",
    "pre only: 1236\\\n",
    "ongoing only: 511\\\n",
    "post only: 605\\\n",
    "pre and post: 31\\\n",
    "sum: 2383\n",
    "\n"
   ]
  },
  {
   "cell_type": "code",
   "execution_count": 7,
   "id": "9092e1b5",
   "metadata": {},
   "outputs": [],
   "source": [
    "def notrans(x):\n",
    "    return x\n",
    "\n",
    "data = DC.BinaryClassificationDataset(datadir, labels, transform = notrans)"
   ]
  },
  {
   "cell_type": "code",
   "execution_count": 8,
   "id": "ad49339b",
   "metadata": {},
   "outputs": [
    {
     "name": "stdout",
     "output_type": "stream",
     "text": [
      "torch.Size([1, 256, 256])\n"
     ]
    }
   ],
   "source": [
    "for d in data:\n",
    "    print(d[0].size())\n",
    "    break"
   ]
  },
  {
   "cell_type": "code",
   "execution_count": 9,
   "id": "59db41ea-5a9c-4f66-a97d-f7b9cdc5d558",
   "metadata": {},
   "outputs": [],
   "source": [
    "deit3 = timm.create_model(\"deit3_base_patch16_224\", pretrained = True)\n",
    "num_classes = 1\n",
    "deit3.head = nn.Linear(deit3.head.in_features, num_classes)\n",
    "\n",
    "# Freeze all parameters first\n",
    "for param in deit3.parameters():\n",
    "    param.requires_grad = False\n",
    "\n",
    "# Unfreeze the classification head\n",
    "if hasattr(deit3, \"head\"):\n",
    "    for param in deit3.head.parameters():\n",
    "        param.requires_grad = True\n",
    "\n",
    "# Unfreeze the last num_unfreeze transformer blocks\n",
    "num_unfreeze = 2\n",
    "if hasattr(deit3, \"blocks\"):\n",
    "    for block in deit3.blocks[-num_unfreeze:]:\n",
    "        for param in block.parameters():\n",
    "            param.requires_grad = True\n",
    "            \n",
    "device = torch.device(\"cuda\" if torch.cuda.is_available() else \"cpu\")\n",
    "deit3 = deit3.to(device)\n",
    "\n",
    "config = timm.data.resolve_model_data_config(deit3)"
   ]
  },
  {
   "cell_type": "code",
   "execution_count": 10,
   "id": "e7605631-7c9e-44dd-aefb-c5b7434246b0",
   "metadata": {},
   "outputs": [
    {
     "data": {
      "text/plain": [
       "12"
      ]
     },
     "execution_count": 10,
     "metadata": {},
     "output_type": "execute_result"
    }
   ],
   "source": [
    "len(deit3.blocks)"
   ]
  },
  {
   "cell_type": "code",
   "execution_count": 11,
   "id": "fcda343c-1e04-4ac4-bb95-0b86259eb991",
   "metadata": {},
   "outputs": [
    {
     "name": "stderr",
     "output_type": "stream",
     "text": [
      "/Software/users/modules/9/software/anaconda3/2024.02/lib/python3.11/site-packages/torchvision/transforms/v2/_deprecated.py:42: UserWarning: The transform `ToTensor()` is deprecated and will be removed in a future release. Instead, please use `v2.Compose([v2.ToImage(), v2.ToDtype(torch.float32, scale=True)])`.Output is equivalent up to float precision.\n",
      "  warnings.warn(\n"
     ]
    }
   ],
   "source": [
    "transform = transforms.Compose([\n",
    "    transforms.Lambda(lambda img: img.squeeze(0) if img.shape[0] == 1 else img),\n",
    "    transforms.ToPILImage(),\n",
    "    transforms.Resize(config[\"input_size\"][1:]),  # Resize to model's expected input size\n",
    "    #transforms.Grayscale(num_output_channels=3),   # Convert grayscale to 3 channels\n",
    "    transforms.ToTensor(),\n",
    "    transforms.Lambda(lambda x: torch.sinh(x)),\n",
    "    transforms.Normalize(mean=config[\"mean\"], std=config[\"std\"])  # Use model-specific normalization\n",
    "])"
   ]
  },
  {
   "cell_type": "code",
   "execution_count": 12,
   "id": "7897e894-b4f3-4d73-8ac3-7140b8897c9a",
   "metadata": {},
   "outputs": [],
   "source": [
    "data = DC.BinaryClassificationDataset(datadir, labels, transform = transform)"
   ]
  },
  {
   "cell_type": "code",
   "execution_count": 13,
   "id": "a7792b93",
   "metadata": {},
   "outputs": [],
   "source": [
    "train_size = int(0.81 * len(data))\n",
    "val_size = int(0.09*len(data))\n",
    "test_size = len(data) - train_size - val_size\n",
    "train_dataset, val_dataset, test_dataset = random_split(data, [train_size, val_size, test_size])\n",
    "\n",
    "batch_size = 256\n",
    "num_workers = 4\n",
    "prefetch_factor = 2\n",
    "train_loader = DataLoader(train_dataset, batch_size=batch_size, shuffle=True, num_workers=num_workers,\n",
    "                          pin_memory=True, persistent_workers=True, prefetch_factor = prefetch_factor)\n",
    "val_loader = DataLoader(val_dataset, batch_size=batch_size, shuffle=False, num_workers=num_workers,\n",
    "                        pin_memory=True, persistent_workers=True, prefetch_factor = prefetch_factor)\n",
    "test_loader = DataLoader(test_dataset, batch_size=batch_size, shuffle=False, num_workers=num_workers,\n",
    "                         pin_memory=True, persistent_workers=True, prefetch_factor = prefetch_factor)"
   ]
  },
  {
   "cell_type": "code",
   "execution_count": 14,
   "id": "8f18ec02-f6bd-4539-a0c1-d064f83a3e9f",
   "metadata": {},
   "outputs": [
    {
     "name": "stdout",
     "output_type": "stream",
     "text": [
      "x batch shape: torch.Size([256, 3, 224, 224])\n",
      "y batch shape: torch.Size([256])\n"
     ]
    }
   ],
   "source": [
    "x,y = next(iter(train_loader))\n",
    "print(\"x batch shape:\", x.shape)  # Should be [batch_size, 3, 224, 224]\n",
    "print(\"y batch shape:\", y.shape)  # Should be [batch_size]"
   ]
  },
  {
   "cell_type": "code",
   "execution_count": 15,
   "id": "ee65cd4b-3f4e-4b66-94f6-f23c2e17c7a0",
   "metadata": {},
   "outputs": [],
   "source": [
    "#criterion = nn.CrossEntropyLoss()\n",
    "criterion = nn.BCEWithLogitsLoss()\n",
    "#optimizer = optim.Adam(deit3.parameters(), lr=0.005, weight_decay=1e-4)\n",
    "optimizer = optim.AdamW(deit3.parameters(),\n",
    "                        lr=1e-3,            # learning rate, adjust as needed\n",
    "                        betas=(0.9, 0.999), # momentum parameters\n",
    "                        eps=1e-8,           # term added to improve numerical stability\n",
    "                        weight_decay=0.01)  # decoupled weight decay"
   ]
  },
  {
   "cell_type": "code",
   "execution_count": 16,
   "id": "e9c505f2-becf-4253-a05a-2cee3f088e0d",
   "metadata": {},
   "outputs": [],
   "source": [
    "epochs = 1\n",
    "train_losses = []\n",
    "val_losses = []\n",
    "\n",
    "#scheduler = torch.optim.lr_scheduler.CosineAnnealingLR(optimizer, T_max = epochs)\n",
    "\n",
    "for epoch in range(epochs):\n",
    "    current_lr = optimizer.param_groups[0]['lr']\n",
    "    print(f\"Epoch {epoch+1}/{epochs} - Learning Rate: {current_lr:.6f}\")\n",
    "\n",
    "    train_loss = AF.training_epoch(deit3, train_loader, optimizer, criterion, device, unsqueezeY = True)\n",
    "    val_loss = AF.evaluation_epoch(deit3, val_loader, criterion, device, desc = 'validation', unsqueezeY = True)\n",
    "\n",
    "    # Step the scheduler\n",
    "    #scheduler.step()\n",
    "\n",
    "    print(f\"Train Loss: {train_loss:.6f} | Val Loss: {val_loss:.6f}\")\n",
    "\n",
    "    train_losses.append(train_loss)\n",
    "    val_losses.append(val_loss)"
   ]
  },
  {
   "cell_type": "code",
   "execution_count": 17,
   "id": "52ea7ade-6f7c-4440-9fa1-e562d733fe45",
   "metadata": {},
   "outputs": [
    {
     "ename": "NameError",
     "evalue": "name 'epoch' is not defined",
     "output_type": "error",
     "traceback": [
      "\u001b[0;31m---------------------------------------------------------------------------\u001b[0m",
      "\u001b[0;31mNameError\u001b[0m                                 Traceback (most recent call last)",
      "Cell \u001b[0;32mIn[17], line 1\u001b[0m\n\u001b[0;32m----> 1\u001b[0m \u001b[38;5;28;01mif\u001b[39;00m epoch\u001b[38;5;241m+\u001b[39m\u001b[38;5;241m1\u001b[39m \u001b[38;5;241m==\u001b[39m epochs:\n\u001b[1;32m      2\u001b[0m     ep \u001b[38;5;241m=\u001b[39m epochs\n\u001b[1;32m      3\u001b[0m \u001b[38;5;28;01melse\u001b[39;00m:\n",
      "\u001b[0;31mNameError\u001b[0m: name 'epoch' is not defined"
     ]
    }
   ],
   "source": [
    "if epoch+1 == epochs:\n",
    "    ep = epochs\n",
    "else:\n",
    "    ep = epoch\n",
    "fig, ax = plt.subplots(figsize=(8, 6))\n",
    "ax.plot(np.arange(ep), train_losses, label=\"Training\")\n",
    "ax.plot(np.arange(ep), val_losses, label=\"Validation\")\n",
    "ax.legend()\n",
    "ax.set_xlabel(\"Epoch\")\n",
    "ax.set_ylabel(\"Loss\")"
   ]
  },
  {
   "cell_type": "markdown",
   "id": "2e3aa12b-2af4-4afe-baa7-36321b1956bc",
   "metadata": {},
   "source": [
    "# Multi-target"
   ]
  },
  {
   "cell_type": "markdown",
   "id": "4d909dd8-532a-4e42-a59b-4af0884897ea",
   "metadata": {},
   "source": [
    "## DeiT III"
   ]
  },
  {
   "cell_type": "code",
   "execution_count": 18,
   "id": "6ccad7fe-4ddf-4277-9e06-2471bb2424d4",
   "metadata": {},
   "outputs": [],
   "source": [
    "deit3_multi = timm.create_model(\"deit3_base_patch16_224\", pretrained = True)\n",
    "num_classes = 2\n",
    "deit3_multi.head = nn.Linear(deit3_multi.head.in_features, num_classes)\n",
    "\n",
    "# Freeze all parameters first\n",
    "for param in deit3_multi.parameters():\n",
    "    param.requires_grad = False\n",
    "\n",
    "# Unfreeze the classification head\n",
    "if hasattr(deit3_multi, \"head\"):\n",
    "    for param in deit3_multi.head.parameters():\n",
    "        param.requires_grad = True\n",
    "\n",
    "# Unfreeze the last num_unfreeze transformer blocks\n",
    "num_unfreeze = 4\n",
    "if hasattr(deit3_multi, \"blocks\"):\n",
    "    for block in deit3_multi.blocks[-num_unfreeze:]:\n",
    "        for param in block.parameters():\n",
    "            param.requires_grad = True\n",
    "\n",
    "device = torch.device(\"cuda\" if torch.cuda.is_available() else \"cpu\")\n",
    "deit3_multi = deit3_multi.to(device)\n",
    "\n",
    "config = timm.data.resolve_model_data_config(deit3_multi)\n",
    "\n",
    "transform = transforms.Compose([\n",
    "    transforms.Lambda(lambda img: img.squeeze(0) if img.shape[0] == 1 else img),\n",
    "    transforms.ToPILImage(),\n",
    "    transforms.Resize(config[\"input_size\"][1:]),  # Resize to model's expected input size\n",
    "    #transforms.Grayscale(num_output_channels=3),   # Convert grayscale to 3 channels\n",
    "    transforms.ToTensor(),\n",
    "    #transforms.Lambda(lambda x: torch.sinh(x)),\n",
    "    transforms.Normalize(mean=config[\"mean\"], std=config[\"std\"])  # Use model-specific normalization\n",
    "])\n",
    "\n",
    "multidata = DC.ClassificationDataset(datadir, labels, transform = transform)"
   ]
  },
  {
   "cell_type": "code",
   "execution_count": 20,
   "id": "06597c22-7097-43c1-9ed0-8ac5b635541f",
   "metadata": {},
   "outputs": [],
   "source": [
    "train_size = int(0.81 * len(multidata))\n",
    "val_size = int(0.09*len(multidata))\n",
    "test_size = len(multidata) - train_size - val_size\n",
    "multi_train_dataset, multi_val_dataset, multi_test_dataset = random_split(multidata, [train_size, val_size, test_size])\n",
    "\n",
    "batch_size = 256\n",
    "num_workers = 4\n",
    "prefetch_factor = 2\n",
    "persistent_workers = True\n",
    "multi_train_loader = DataLoader(multi_train_dataset, batch_size=batch_size, shuffle=True, num_workers=num_workers,\n",
    "                          pin_memory=True, persistent_workers=persistent_workers, prefetch_factor = prefetch_factor)\n",
    "multi_val_loader = DataLoader(multi_val_dataset, batch_size=batch_size, shuffle=False, num_workers=num_workers,\n",
    "                        pin_memory=True, persistent_workers=persistent_workers, prefetch_factor = prefetch_factor)\n",
    "multi_test_loader = DataLoader(multi_test_dataset, batch_size=batch_size, shuffle=False, num_workers=num_workers,\n",
    "                         pin_memory=True, persistent_workers=persistent_workers, prefetch_factor = prefetch_factor)\n",
    "\n",
    "x,y = next(iter(multi_train_loader))\n",
    "print(\"x batch shape:\", x.shape)  # Should be [batch_size, 3, 224, 224]\n",
    "print(\"y batch shape:\", y.shape)  # Should be [batch_size, 3]"
   ]
  },
  {
   "cell_type": "code",
   "execution_count": 22,
   "id": "37a3bc4a-801a-478b-bbd7-f6a7f5ab6a06",
   "metadata": {},
   "outputs": [],
   "source": [
    "criterion = nn.BCEWithLogitsLoss()\n",
    "#optimizer = optim.Adam(deit3_multi.parameters(), lr=0.005, weight_decay=1e-4)\n",
    "optimizer = optim.AdamW(deit3_multi.parameters(),\n",
    "                        lr=1e-3,            # learning rate, adjust as needed\n",
    "                        betas=(0.9, 0.999), # momentum parameters\n",
    "                        eps=1e-8,           # term added to improve numerical stability\n",
    "                        weight_decay=0.01)  # decoupled weight decay"
   ]
  },
  {
   "cell_type": "code",
   "execution_count": 23,
   "id": "a9c13e6c-ba9b-488d-9d58-1acab88647c5",
   "metadata": {},
   "outputs": [
    {
     "name": "stdout",
     "output_type": "stream",
     "text": [
      "Epoch 1/20 - Learning Rate: 0.001000\n"
     ]
    },
    {
     "name": "stderr",
     "output_type": "stream",
     "text": [
      "Training:   0%|                                                                                 | 0/185 [00:00<?, ?it/s]/net/virgo01/data/users/mahesh/DeepLearning/DLP_galaxy_mergers/Scripts/AkhilFunctions.py:23: FutureWarning: `torch.cuda.amp.autocast(args...)` is deprecated. Please use `torch.amp.autocast('cuda', args...)` instead.\n",
      "  with autocast():\n",
      "                                                                                                                        \r"
     ]
    },
    {
     "name": "stdout",
     "output_type": "stream",
     "text": [
      "Train Loss: 0.132677 | Val Loss: 0.117119\n",
      "Epoch 2/20 - Learning Rate: 0.001000\n"
     ]
    },
    {
     "name": "stderr",
     "output_type": "stream",
     "text": [
      "                                                                                                                        \r"
     ]
    },
    {
     "name": "stdout",
     "output_type": "stream",
     "text": [
      "Train Loss: 0.117810 | Val Loss: 0.112773\n",
      "Epoch 3/20 - Learning Rate: 0.001000\n"
     ]
    },
    {
     "name": "stderr",
     "output_type": "stream",
     "text": [
      "                                                                                                                        \r"
     ]
    },
    {
     "name": "stdout",
     "output_type": "stream",
     "text": [
      "Train Loss: 0.115938 | Val Loss: 0.117505\n",
      "Epoch 4/20 - Learning Rate: 0.001000\n"
     ]
    },
    {
     "name": "stderr",
     "output_type": "stream",
     "text": [
      "                                                                                                                        \r"
     ]
    },
    {
     "name": "stdout",
     "output_type": "stream",
     "text": [
      "Train Loss: 0.113772 | Val Loss: 0.110414\n",
      "Epoch 5/20 - Learning Rate: 0.001000\n"
     ]
    },
    {
     "name": "stderr",
     "output_type": "stream",
     "text": [
      "                                                                                                                        \r"
     ]
    },
    {
     "name": "stdout",
     "output_type": "stream",
     "text": [
      "Train Loss: 0.110634 | Val Loss: 0.118065\n",
      "Epoch 6/20 - Learning Rate: 0.001000\n"
     ]
    },
    {
     "name": "stderr",
     "output_type": "stream",
     "text": [
      "                                                                                                                        \r"
     ]
    },
    {
     "ename": "KeyboardInterrupt",
     "evalue": "",
     "output_type": "error",
     "traceback": [
      "\u001b[0;31m---------------------------------------------------------------------------\u001b[0m",
      "\u001b[0;31mKeyboardInterrupt\u001b[0m                         Traceback (most recent call last)",
      "Cell \u001b[0;32mIn[23], line 11\u001b[0m\n\u001b[1;32m      8\u001b[0m current_lr \u001b[38;5;241m=\u001b[39m optimizer\u001b[38;5;241m.\u001b[39mparam_groups[\u001b[38;5;241m0\u001b[39m][\u001b[38;5;124m'\u001b[39m\u001b[38;5;124mlr\u001b[39m\u001b[38;5;124m'\u001b[39m]\n\u001b[1;32m      9\u001b[0m \u001b[38;5;28mprint\u001b[39m(\u001b[38;5;124mf\u001b[39m\u001b[38;5;124m\"\u001b[39m\u001b[38;5;124mEpoch \u001b[39m\u001b[38;5;132;01m{\u001b[39;00mepoch\u001b[38;5;241m+\u001b[39m\u001b[38;5;241m1\u001b[39m\u001b[38;5;132;01m}\u001b[39;00m\u001b[38;5;124m/\u001b[39m\u001b[38;5;132;01m{\u001b[39;00mepochs\u001b[38;5;132;01m}\u001b[39;00m\u001b[38;5;124m - Learning Rate: \u001b[39m\u001b[38;5;132;01m{\u001b[39;00mcurrent_lr\u001b[38;5;132;01m:\u001b[39;00m\u001b[38;5;124m.6f\u001b[39m\u001b[38;5;132;01m}\u001b[39;00m\u001b[38;5;124m\"\u001b[39m)\n\u001b[0;32m---> 11\u001b[0m train_loss \u001b[38;5;241m=\u001b[39m AF\u001b[38;5;241m.\u001b[39mtraining_epoch(deit3_multi, multi_train_loader, optimizer, criterion, device, unsqueezeY \u001b[38;5;241m=\u001b[39m \u001b[38;5;28;01mFalse\u001b[39;00m)\n\u001b[1;32m     12\u001b[0m val_loss \u001b[38;5;241m=\u001b[39m AF\u001b[38;5;241m.\u001b[39mevaluation_epoch(deit3_multi, multi_val_loader, criterion, device, desc \u001b[38;5;241m=\u001b[39m \u001b[38;5;124m'\u001b[39m\u001b[38;5;124mvalidation\u001b[39m\u001b[38;5;124m'\u001b[39m, unsqueezeY \u001b[38;5;241m=\u001b[39m \u001b[38;5;28;01mFalse\u001b[39;00m)\n\u001b[1;32m     14\u001b[0m \u001b[38;5;66;03m# Step the scheduler\u001b[39;00m\n\u001b[1;32m     15\u001b[0m \u001b[38;5;66;03m#scheduler.step()\u001b[39;00m\n",
      "File \u001b[0;32m/net/virgo01/data/users/mahesh/DeepLearning/DLP_galaxy_mergers/Scripts/AkhilFunctions.py:15\u001b[0m, in \u001b[0;36mtraining_epoch\u001b[0;34m(model, train_loader, optimizer, criterion, device, unsqueezeY)\u001b[0m\n\u001b[1;32m     12\u001b[0m model\u001b[38;5;241m.\u001b[39mtrain()  \u001b[38;5;66;03m# Set model to training mode\u001b[39;00m\n\u001b[1;32m     13\u001b[0m running_loss \u001b[38;5;241m=\u001b[39m \u001b[38;5;241m0.0\u001b[39m\n\u001b[0;32m---> 15\u001b[0m \u001b[38;5;28;01mfor\u001b[39;00m X, Y \u001b[38;5;129;01min\u001b[39;00m tqdm(train_loader, desc\u001b[38;5;241m=\u001b[39m\u001b[38;5;124m\"\u001b[39m\u001b[38;5;124mTraining\u001b[39m\u001b[38;5;124m\"\u001b[39m, leave\u001b[38;5;241m=\u001b[39m\u001b[38;5;28;01mFalse\u001b[39;00m):\n\u001b[1;32m     16\u001b[0m     \u001b[38;5;66;03m#batch_size = X.shape[0]\u001b[39;00m\n\u001b[1;32m     17\u001b[0m     \u001b[38;5;66;03m#print(X.shape)\u001b[39;00m\n\u001b[1;32m     18\u001b[0m     \u001b[38;5;66;03m#print(Y.shape)\u001b[39;00m\n\u001b[1;32m     19\u001b[0m     X, Y \u001b[38;5;241m=\u001b[39m X\u001b[38;5;241m.\u001b[39mto(device), Y\u001b[38;5;241m.\u001b[39mto(device)\n\u001b[1;32m     20\u001b[0m     optimizer\u001b[38;5;241m.\u001b[39mzero_grad()  \u001b[38;5;66;03m# Reset gradients\u001b[39;00m\n",
      "File \u001b[0;32m/Software/users/modules/9/software/anaconda3/2024.02/lib/python3.11/site-packages/tqdm/std.py:1178\u001b[0m, in \u001b[0;36mtqdm.__iter__\u001b[0;34m(self)\u001b[0m\n\u001b[1;32m   1175\u001b[0m time \u001b[38;5;241m=\u001b[39m \u001b[38;5;28mself\u001b[39m\u001b[38;5;241m.\u001b[39m_time\n\u001b[1;32m   1177\u001b[0m \u001b[38;5;28;01mtry\u001b[39;00m:\n\u001b[0;32m-> 1178\u001b[0m     \u001b[38;5;28;01mfor\u001b[39;00m obj \u001b[38;5;129;01min\u001b[39;00m iterable:\n\u001b[1;32m   1179\u001b[0m         \u001b[38;5;28;01myield\u001b[39;00m obj\n\u001b[1;32m   1180\u001b[0m         \u001b[38;5;66;03m# Update and possibly print the progressbar.\u001b[39;00m\n\u001b[1;32m   1181\u001b[0m         \u001b[38;5;66;03m# Note: does not call self.update(1) for speed optimisation.\u001b[39;00m\n",
      "File \u001b[0;32m/Software/users/modules/9/software/anaconda3/2024.02/lib/python3.11/site-packages/torch/utils/data/dataloader.py:630\u001b[0m, in \u001b[0;36m_BaseDataLoaderIter.__next__\u001b[0;34m(self)\u001b[0m\n\u001b[1;32m    627\u001b[0m \u001b[38;5;28;01mif\u001b[39;00m \u001b[38;5;28mself\u001b[39m\u001b[38;5;241m.\u001b[39m_sampler_iter \u001b[38;5;129;01mis\u001b[39;00m \u001b[38;5;28;01mNone\u001b[39;00m:\n\u001b[1;32m    628\u001b[0m     \u001b[38;5;66;03m# TODO(https://github.com/pytorch/pytorch/issues/76750)\u001b[39;00m\n\u001b[1;32m    629\u001b[0m     \u001b[38;5;28mself\u001b[39m\u001b[38;5;241m.\u001b[39m_reset()  \u001b[38;5;66;03m# type: ignore[call-arg]\u001b[39;00m\n\u001b[0;32m--> 630\u001b[0m data \u001b[38;5;241m=\u001b[39m \u001b[38;5;28mself\u001b[39m\u001b[38;5;241m.\u001b[39m_next_data()\n\u001b[1;32m    631\u001b[0m \u001b[38;5;28mself\u001b[39m\u001b[38;5;241m.\u001b[39m_num_yielded \u001b[38;5;241m+\u001b[39m\u001b[38;5;241m=\u001b[39m \u001b[38;5;241m1\u001b[39m\n\u001b[1;32m    632\u001b[0m \u001b[38;5;28;01mif\u001b[39;00m \u001b[38;5;28mself\u001b[39m\u001b[38;5;241m.\u001b[39m_dataset_kind \u001b[38;5;241m==\u001b[39m _DatasetKind\u001b[38;5;241m.\u001b[39mIterable \u001b[38;5;129;01mand\u001b[39;00m \\\n\u001b[1;32m    633\u001b[0m         \u001b[38;5;28mself\u001b[39m\u001b[38;5;241m.\u001b[39m_IterableDataset_len_called \u001b[38;5;129;01mis\u001b[39;00m \u001b[38;5;129;01mnot\u001b[39;00m \u001b[38;5;28;01mNone\u001b[39;00m \u001b[38;5;129;01mand\u001b[39;00m \\\n\u001b[1;32m    634\u001b[0m         \u001b[38;5;28mself\u001b[39m\u001b[38;5;241m.\u001b[39m_num_yielded \u001b[38;5;241m>\u001b[39m \u001b[38;5;28mself\u001b[39m\u001b[38;5;241m.\u001b[39m_IterableDataset_len_called:\n",
      "File \u001b[0;32m/Software/users/modules/9/software/anaconda3/2024.02/lib/python3.11/site-packages/torch/utils/data/dataloader.py:1327\u001b[0m, in \u001b[0;36m_MultiProcessingDataLoaderIter._next_data\u001b[0;34m(self)\u001b[0m\n\u001b[1;32m   1324\u001b[0m     \u001b[38;5;28;01mreturn\u001b[39;00m \u001b[38;5;28mself\u001b[39m\u001b[38;5;241m.\u001b[39m_process_data(data)\n\u001b[1;32m   1326\u001b[0m \u001b[38;5;28;01massert\u001b[39;00m \u001b[38;5;129;01mnot\u001b[39;00m \u001b[38;5;28mself\u001b[39m\u001b[38;5;241m.\u001b[39m_shutdown \u001b[38;5;129;01mand\u001b[39;00m \u001b[38;5;28mself\u001b[39m\u001b[38;5;241m.\u001b[39m_tasks_outstanding \u001b[38;5;241m>\u001b[39m \u001b[38;5;241m0\u001b[39m\n\u001b[0;32m-> 1327\u001b[0m idx, data \u001b[38;5;241m=\u001b[39m \u001b[38;5;28mself\u001b[39m\u001b[38;5;241m.\u001b[39m_get_data()\n\u001b[1;32m   1328\u001b[0m \u001b[38;5;28mself\u001b[39m\u001b[38;5;241m.\u001b[39m_tasks_outstanding \u001b[38;5;241m-\u001b[39m\u001b[38;5;241m=\u001b[39m \u001b[38;5;241m1\u001b[39m\n\u001b[1;32m   1329\u001b[0m \u001b[38;5;28;01mif\u001b[39;00m \u001b[38;5;28mself\u001b[39m\u001b[38;5;241m.\u001b[39m_dataset_kind \u001b[38;5;241m==\u001b[39m _DatasetKind\u001b[38;5;241m.\u001b[39mIterable:\n\u001b[1;32m   1330\u001b[0m     \u001b[38;5;66;03m# Check for _IterableDatasetStopIteration\u001b[39;00m\n",
      "File \u001b[0;32m/Software/users/modules/9/software/anaconda3/2024.02/lib/python3.11/site-packages/torch/utils/data/dataloader.py:1283\u001b[0m, in \u001b[0;36m_MultiProcessingDataLoaderIter._get_data\u001b[0;34m(self)\u001b[0m\n\u001b[1;32m   1281\u001b[0m \u001b[38;5;28;01melif\u001b[39;00m \u001b[38;5;28mself\u001b[39m\u001b[38;5;241m.\u001b[39m_pin_memory:\n\u001b[1;32m   1282\u001b[0m     \u001b[38;5;28;01mwhile\u001b[39;00m \u001b[38;5;28mself\u001b[39m\u001b[38;5;241m.\u001b[39m_pin_memory_thread\u001b[38;5;241m.\u001b[39mis_alive():\n\u001b[0;32m-> 1283\u001b[0m         success, data \u001b[38;5;241m=\u001b[39m \u001b[38;5;28mself\u001b[39m\u001b[38;5;241m.\u001b[39m_try_get_data()\n\u001b[1;32m   1284\u001b[0m         \u001b[38;5;28;01mif\u001b[39;00m success:\n\u001b[1;32m   1285\u001b[0m             \u001b[38;5;28;01mreturn\u001b[39;00m data\n",
      "File \u001b[0;32m/Software/users/modules/9/software/anaconda3/2024.02/lib/python3.11/site-packages/torch/utils/data/dataloader.py:1131\u001b[0m, in \u001b[0;36m_MultiProcessingDataLoaderIter._try_get_data\u001b[0;34m(self, timeout)\u001b[0m\n\u001b[1;32m   1118\u001b[0m \u001b[38;5;28;01mdef\u001b[39;00m \u001b[38;5;21m_try_get_data\u001b[39m(\u001b[38;5;28mself\u001b[39m, timeout\u001b[38;5;241m=\u001b[39m_utils\u001b[38;5;241m.\u001b[39mMP_STATUS_CHECK_INTERVAL):\n\u001b[1;32m   1119\u001b[0m     \u001b[38;5;66;03m# Tries to fetch data from `self._data_queue` once for a given timeout.\u001b[39;00m\n\u001b[1;32m   1120\u001b[0m     \u001b[38;5;66;03m# This can also be used as inner loop of fetching without timeout, with\u001b[39;00m\n\u001b[0;32m   (...)\u001b[0m\n\u001b[1;32m   1128\u001b[0m     \u001b[38;5;66;03m# Returns a 2-tuple:\u001b[39;00m\n\u001b[1;32m   1129\u001b[0m     \u001b[38;5;66;03m#   (bool: whether successfully get data, any: data if successful else None)\u001b[39;00m\n\u001b[1;32m   1130\u001b[0m     \u001b[38;5;28;01mtry\u001b[39;00m:\n\u001b[0;32m-> 1131\u001b[0m         data \u001b[38;5;241m=\u001b[39m \u001b[38;5;28mself\u001b[39m\u001b[38;5;241m.\u001b[39m_data_queue\u001b[38;5;241m.\u001b[39mget(timeout\u001b[38;5;241m=\u001b[39mtimeout)\n\u001b[1;32m   1132\u001b[0m         \u001b[38;5;28;01mreturn\u001b[39;00m (\u001b[38;5;28;01mTrue\u001b[39;00m, data)\n\u001b[1;32m   1133\u001b[0m     \u001b[38;5;28;01mexcept\u001b[39;00m \u001b[38;5;167;01mException\u001b[39;00m \u001b[38;5;28;01mas\u001b[39;00m e:\n\u001b[1;32m   1134\u001b[0m         \u001b[38;5;66;03m# At timeout and error, we manually check whether any worker has\u001b[39;00m\n\u001b[1;32m   1135\u001b[0m         \u001b[38;5;66;03m# failed. Note that this is the only mechanism for Windows to detect\u001b[39;00m\n\u001b[1;32m   1136\u001b[0m         \u001b[38;5;66;03m# worker failures.\u001b[39;00m\n",
      "File \u001b[0;32m/Software/users/modules/9/software/anaconda3/2024.02/lib/python3.11/queue.py:180\u001b[0m, in \u001b[0;36mQueue.get\u001b[0;34m(self, block, timeout)\u001b[0m\n\u001b[1;32m    178\u001b[0m         \u001b[38;5;28;01mif\u001b[39;00m remaining \u001b[38;5;241m<\u001b[39m\u001b[38;5;241m=\u001b[39m \u001b[38;5;241m0.0\u001b[39m:\n\u001b[1;32m    179\u001b[0m             \u001b[38;5;28;01mraise\u001b[39;00m Empty\n\u001b[0;32m--> 180\u001b[0m         \u001b[38;5;28mself\u001b[39m\u001b[38;5;241m.\u001b[39mnot_empty\u001b[38;5;241m.\u001b[39mwait(remaining)\n\u001b[1;32m    181\u001b[0m item \u001b[38;5;241m=\u001b[39m \u001b[38;5;28mself\u001b[39m\u001b[38;5;241m.\u001b[39m_get()\n\u001b[1;32m    182\u001b[0m \u001b[38;5;28mself\u001b[39m\u001b[38;5;241m.\u001b[39mnot_full\u001b[38;5;241m.\u001b[39mnotify()\n",
      "File \u001b[0;32m/Software/users/modules/9/software/anaconda3/2024.02/lib/python3.11/threading.py:331\u001b[0m, in \u001b[0;36mCondition.wait\u001b[0;34m(self, timeout)\u001b[0m\n\u001b[1;32m    329\u001b[0m \u001b[38;5;28;01melse\u001b[39;00m:\n\u001b[1;32m    330\u001b[0m     \u001b[38;5;28;01mif\u001b[39;00m timeout \u001b[38;5;241m>\u001b[39m \u001b[38;5;241m0\u001b[39m:\n\u001b[0;32m--> 331\u001b[0m         gotit \u001b[38;5;241m=\u001b[39m waiter\u001b[38;5;241m.\u001b[39macquire(\u001b[38;5;28;01mTrue\u001b[39;00m, timeout)\n\u001b[1;32m    332\u001b[0m     \u001b[38;5;28;01melse\u001b[39;00m:\n\u001b[1;32m    333\u001b[0m         gotit \u001b[38;5;241m=\u001b[39m waiter\u001b[38;5;241m.\u001b[39macquire(\u001b[38;5;28;01mFalse\u001b[39;00m)\n",
      "\u001b[0;31mKeyboardInterrupt\u001b[0m: "
     ]
    }
   ],
   "source": [
    "epochs = 20\n",
    "deit3_multi_train_losses = []\n",
    "deit3_multi_val_losses = []\n",
    "\n",
    "#scheduler = torch.optim.lr_scheduler.CosineAnnealingLR(optimizer, T_max = epochs)\n",
    "\n",
    "for epoch in range(epochs):\n",
    "    current_lr = optimizer.param_groups[0]['lr']\n",
    "    print(f\"Epoch {epoch+1}/{epochs} - Learning Rate: {current_lr:.6f}\")\n",
    "\n",
    "    train_loss = AF.training_epoch(deit3_multi, multi_train_loader, optimizer, criterion, device, unsqueezeY = False)\n",
    "    val_loss = AF.evaluation_epoch(deit3_multi, multi_val_loader, criterion, device, desc = 'validation', unsqueezeY = False)\n",
    "\n",
    "    # Step the scheduler\n",
    "    #scheduler.step()\n",
    "\n",
    "    print(f\"Train Loss: {train_loss:.6f} | Val Loss: {val_loss:.6f}\")\n",
    "\n",
    "    deit3_multi_train_losses.append(train_loss)\n",
    "    deit3_multi_val_losses.append(val_loss)"
   ]
  },
  {
   "cell_type": "code",
   "execution_count": 25,
   "id": "2ef6c661-1976-4649-b8a7-5a539e8ea796",
   "metadata": {},
   "outputs": [
    {
     "data": {
      "text/plain": [
       "Text(0, 0.5, 'Loss')"
      ]
     },
     "execution_count": 25,
     "metadata": {},
     "output_type": "execute_result"
    },
    {
     "data": {
      "image/png": "[encoded data removed]",
      "text/plain": [
       "<Figure size 800x600 with 1 Axes>"
      ]
     },
     "metadata": {},
     "output_type": "display_data"
    }
   ],
   "source": [
    "if epoch+1 == epochs:\n",
    "    ep = epochs\n",
    "else:\n",
    "    ep = epoch\n",
    "fig, ax = plt.subplots(figsize=(8, 6))\n",
    "ax.plot(np.arange(ep), deit3_multi_train_losses, label=\"Training\")\n",
    "ax.plot(np.arange(ep), deit3_multi_val_losses, label=\"Validation\")\n",
    "ax.legend()\n",
    "ax.set_xlabel(\"Epoch\")\n",
    "ax.set_ylabel(\"Loss\")"
   ]
  },
  {
   "cell_type": "markdown",
   "id": "785052d6-379f-49de-bafd-f8cbfaa14581",
   "metadata": {},
   "source": [
    "## Swin V2"
   ]
  },
  {
   "cell_type": "code",
   "execution_count": 35,
   "id": "3929e4d6-322c-481a-9e5e-747f0de685a5",
   "metadata": {},
   "outputs": [],
   "source": [
    "swin_multi = timm.create_model(\"swinv2_base_window16_256\", pretrained = True)\n",
    "num_classes = 2\n",
    "#swin_multi.head = nn.Linear(swin_multi.head.in_features, num_classes)\n",
    "swin_multi.reset_classifier(num_classes, global_pool='avg')\n",
    "\n",
    "# Freeze all parameters first\n",
    "for param in swin_multi.parameters():\n",
    "    param.requires_grad = False\n",
    "\n",
    "# Unfreeze the classification head\n",
    "if hasattr(swin_multi, \"head\"):\n",
    "    for param in swin_multi.head.parameters():\n",
    "        param.requires_grad = True\n",
    "\n",
    "# Unfreeze the last num_unfreeze transformer blocks\n",
    "num_unfreeze = 3\n",
    "if hasattr(swin_multi, \"blocks\"):\n",
    "    for block in swin_multi.blocks[-num_unfreeze:]:\n",
    "        for param in block.parameters():\n",
    "            param.requires_grad = True\n",
    "\n",
    "device = torch.device(\"cuda\" if torch.cuda.is_available() else \"cpu\")\n",
    "swin_multi = swin_multi.to(device)\n",
    "\n",
    "config = timm.data.resolve_model_data_config(swin_multi)\n",
    "\n",
    "transform = transforms.Compose([\n",
    "    transforms.Lambda(lambda img: img.squeeze(0) if img.shape[0] == 1 else img),\n",
    "    transforms.ToPILImage(),\n",
    "    transforms.Resize(config[\"input_size\"][1:]),  # Resize to model's expected input size\n",
    "    #transforms.Grayscale(num_output_channels=3),   # Convert grayscale to 3 channels\n",
    "    transforms.ToTensor(),\n",
    "    #transforms.Lambda(lambda x: torch.sinh(x)),\n",
    "    transforms.Normalize(mean=config[\"mean\"], std=config[\"std\"])  # Use model-specific normalization\n",
    "])\n",
    "\n",
    "swin_multidata = DC.ClassificationDataset(datadir, labels, transform = transform)"
   ]
  },
  {
   "cell_type": "code",
   "execution_count": 37,
   "id": "b6387c56-3539-44c6-b819-29b1449feba3",
   "metadata": {},
   "outputs": [
    {
     "name": "stdout",
     "output_type": "stream",
     "text": [
      "x batch shape: torch.Size([256, 3, 256, 256])\n",
      "y batch shape: torch.Size([256, 3])\n"
     ]
    },
    {
     "name": "stderr",
     "output_type": "stream",
     "text": [
      "Exception ignored in: <function _MultiProcessingDataLoaderIter.__del__ at 0x7fb8c4f102c0>\n",
      "Traceback (most recent call last):\n",
      "  File \"/Software/users/modules/9/software/anaconda3/2024.02/lib/python3.11/site-packages/torch/utils/data/dataloader.py\", line 1477, in __del__\n",
      "    self._shutdown_workers()\n",
      "  File \"/Software/users/modules/9/software/anaconda3/2024.02/lib/python3.11/site-packages/torch/utils/data/dataloader.py\", line 1460, in _shutdown_workers\n",
      "    if w.is_alive():\n",
      "       ^^^^^^^^^^^^\n",
      "  File \"/Software/users/modules/9/software/anaconda3/2024.02/lib/python3.11/multiprocessing/process.py\", line 160, in is_alive\n",
      "    assert self._parent_pid == os.getpid(), 'can only test a child process'\n",
      "           ^^^^^^^^^^^^^^^^^^^^^^^^^^^^^^^\n",
      "AssertionError: can only test a child process\n",
      "Exception ignored in: <function _MultiProcessingDataLoaderIter.__del__ at 0x7fb8c4f102c0>\n",
      "Traceback (most recent call last):\n",
      "  File \"/Software/users/modules/9/software/anaconda3/2024.02/lib/python3.11/site-packages/torch/utils/data/dataloader.py\", line 1477, in __del__\n",
      "    self._shutdown_workers()\n",
      "  File \"/Software/users/modules/9/software/anaconda3/2024.02/lib/python3.11/site-packages/torch/utils/data/dataloader.py\", line 1460, in _shutdown_workers\n",
      "    if w.is_alive():\n",
      "       ^^^^^^^^^^^^\n",
      "  File \"/Software/users/modules/9/software/anaconda3/2024.02/lib/python3.11/multiprocessing/process.py\", line 160, in is_alive\n",
      "    assert self._parent_pid == os.getpid(), 'can only test a child process'\n",
      "           ^^^^^^^^^^^^^^^^^^^^^^^^^^^^^^^\n",
      "AssertionError: can only test a child process\n",
      "Exception ignored in: <function _MultiProcessingDataLoaderIter.__del__ at 0x7fb8c4f102c0>\n",
      "Traceback (most recent call last):\n",
      "  File \"/Software/users/modules/9/software/anaconda3/2024.02/lib/python3.11/site-packages/torch/utils/data/dataloader.py\", line 1477, in __del__\n",
      "    self._shutdown_workers()\n",
      "  File \"/Software/users/modules/9/software/anaconda3/2024.02/lib/python3.11/site-packages/torch/utils/data/dataloader.py\", line 1460, in _shutdown_workers\n",
      "    if w.is_alive():\n",
      "       ^^^^^^^^^^^^\n",
      "  File \"/Software/users/modules/9/software/anaconda3/2024.02/lib/python3.11/multiprocessing/process.py\", line 160, in is_alive\n",
      "    assert self._parent_pid == os.getpid(), 'can only test a child process'\n",
      "           ^^^^^^^^^^^^^^^^^^^^^^^^^^^^^^^\n",
      "AssertionError: can only test a child process\n",
      "Exception ignored in: <function _MultiProcessingDataLoaderIter.__del__ at 0x7fb8c4f102c0>\n",
      "Traceback (most recent call last):\n",
      "  File \"/Software/users/modules/9/software/anaconda3/2024.02/lib/python3.11/site-packages/torch/utils/data/dataloader.py\", line 1477, in __del__\n",
      "    self._shutdown_workers()\n",
      "  File \"/Software/users/modules/9/software/anaconda3/2024.02/lib/python3.11/site-packages/torch/utils/data/dataloader.py\", line 1460, in _shutdown_workers\n",
      "    if w.is_alive():\n",
      "       ^^^^^^^^^^^^\n",
      "  File \"/Software/users/modules/9/software/anaconda3/2024.02/lib/python3.11/multiprocessing/process.py\", line 160, in is_alive\n",
      "    assert self._parent_pid == os.getpid(), 'can only test a child process'\n",
      "           ^^^^^^^^^^^^^^^^^^^^^^^^^^^^^^^\n",
      "AssertionError: can only test a child process\n"
     ]
    }
   ],
   "source": [
    "train_size = int(0.81 * len(swin_multidata))\n",
    "val_size = int(0.09*len(swin_multidata))\n",
    "test_size = len(swin_multidata) - train_size - val_size\n",
    "swin_multi_train_dataset, swin_multi_val_dataset, swin_multi_test_dataset = random_split(swin_multidata, [train_size, val_size, test_size])\n",
    "\n",
    "batch_size = 256\n",
    "num_workers = 4\n",
    "prefetch_factor = 2\n",
    "persistent_workers = True\n",
    "swin_multi_train_loader = DataLoader(swin_multi_train_dataset, batch_size=batch_size, shuffle=True, num_workers=num_workers,\n",
    "                          pin_memory=True, persistent_workers=persistent_workers, prefetch_factor = prefetch_factor)\n",
    "swin_multi_val_loader = DataLoader(swin_multi_val_dataset, batch_size=batch_size, shuffle=False, num_workers=num_workers,\n",
    "                        pin_memory=True, persistent_workers=persistent_workers, prefetch_factor = prefetch_factor)\n",
    "swin_multi_test_loader = DataLoader(swin_multi_test_dataset, batch_size=batch_size, shuffle=False, num_workers=num_workers,\n",
    "                         pin_memory=True, persistent_workers=persistent_workers, prefetch_factor = prefetch_factor)\n",
    "\n",
    "x,y = next(iter(swin_multi_train_loader))\n",
    "print(\"x batch shape:\", x.shape)  # Should be [batch_size, 3, 224, 224]\n",
    "print(\"y batch shape:\", y.shape)  # Should be [batch_size, 3]"
   ]
  },
  {
   "cell_type": "code",
   "execution_count": 38,
   "id": "3e281f09-ce80-4697-9245-c364b92a79c1",
   "metadata": {},
   "outputs": [],
   "source": [
    "criterion = nn.BCEWithLogitsLoss()\n",
    "#optimizer = optim.Adam(swin_multi.parameters(), lr=0.005, weight_decay=1e-4)\n",
    "optimizer = optim.AdamW(swin_multi.parameters(),\n",
    "                        lr=1e-3,            # learning rate, adjust as needed\n",
    "                        betas=(0.9, 0.999), # momentum parameters\n",
    "                        eps=1e-8,           # term added to improve numerical stability\n",
    "                        weight_decay=0.01)  # decoupled weight decay"
   ]
  },
  {
   "cell_type": "code",
   "execution_count": 39,
   "id": "bb77d1e7-8d16-4be4-b478-6f48b49b5d23",
   "metadata": {},
   "outputs": [
    {
     "name": "stdout",
     "output_type": "stream",
     "text": [
      "Epoch 1/20 - Learning Rate: 0.001000\n"
     ]
    },
    {
     "name": "stderr",
     "output_type": "stream",
     "text": [
      "                                                                                                                        \r"
     ]
    },
    {
     "name": "stdout",
     "output_type": "stream",
     "text": [
      "Train Loss: 0.141958 | Val Loss: 0.115039\n",
      "Epoch 2/20 - Learning Rate: 0.001000\n"
     ]
    },
    {
     "name": "stderr",
     "output_type": "stream",
     "text": [
      "                                                                                                                        \r"
     ]
    },
    {
     "name": "stdout",
     "output_type": "stream",
     "text": [
      "Train Loss: 0.123127 | Val Loss: 0.113536\n",
      "Epoch 3/20 - Learning Rate: 0.001000\n"
     ]
    },
    {
     "name": "stderr",
     "output_type": "stream",
     "text": [
      "                                                                                                                        \r"
     ]
    },
    {
     "name": "stdout",
     "output_type": "stream",
     "text": [
      "Train Loss: 0.122167 | Val Loss: 0.112987\n",
      "Epoch 4/20 - Learning Rate: 0.001000\n"
     ]
    },
    {
     "name": "stderr",
     "output_type": "stream",
     "text": [
      "                                                                                                                        \r"
     ]
    },
    {
     "name": "stdout",
     "output_type": "stream",
     "text": [
      "Train Loss: 0.121253 | Val Loss: 0.112489\n",
      "Epoch 5/20 - Learning Rate: 0.001000\n"
     ]
    },
    {
     "name": "stderr",
     "output_type": "stream",
     "text": [
      "                                                                                                                        \r"
     ]
    },
    {
     "name": "stdout",
     "output_type": "stream",
     "text": [
      "Train Loss: 0.120533 | Val Loss: 0.111963\n",
      "Epoch 6/20 - Learning Rate: 0.001000\n"
     ]
    },
    {
     "name": "stderr",
     "output_type": "stream",
     "text": [
      "                                                                                                                        \r"
     ]
    },
    {
     "name": "stdout",
     "output_type": "stream",
     "text": [
      "Train Loss: 0.120321 | Val Loss: 0.111787\n",
      "Epoch 7/20 - Learning Rate: 0.001000\n"
     ]
    },
    {
     "name": "stderr",
     "output_type": "stream",
     "text": [
      "                                                                                                                        \r"
     ]
    },
    {
     "name": "stdout",
     "output_type": "stream",
     "text": [
      "Train Loss: 0.119779 | Val Loss: 0.111867\n",
      "Epoch 8/20 - Learning Rate: 0.001000\n"
     ]
    },
    {
     "name": "stderr",
     "output_type": "stream",
     "text": [
      "                                                                                                                        \r"
     ]
    },
    {
     "name": "stdout",
     "output_type": "stream",
     "text": [
      "Train Loss: 0.119656 | Val Loss: 0.111504\n",
      "Epoch 9/20 - Learning Rate: 0.001000\n"
     ]
    },
    {
     "name": "stderr",
     "output_type": "stream",
     "text": [
      "                                                                                                                        \r"
     ]
    },
    {
     "name": "stdout",
     "output_type": "stream",
     "text": [
      "Train Loss: 0.119590 | Val Loss: 0.111026\n",
      "Epoch 10/20 - Learning Rate: 0.001000\n"
     ]
    },
    {
     "name": "stderr",
     "output_type": "stream",
     "text": [
      "                                                                                                                        \r"
     ]
    },
    {
     "name": "stdout",
     "output_type": "stream",
     "text": [
      "Train Loss: 0.119264 | Val Loss: 0.111199\n",
      "Epoch 11/20 - Learning Rate: 0.001000\n"
     ]
    },
    {
     "name": "stderr",
     "output_type": "stream",
     "text": [
      "                                                                                                                        \r"
     ]
    },
    {
     "name": "stdout",
     "output_type": "stream",
     "text": [
      "Train Loss: 0.118805 | Val Loss: 0.110853\n",
      "Epoch 12/20 - Learning Rate: 0.001000\n"
     ]
    },
    {
     "name": "stderr",
     "output_type": "stream",
     "text": [
      "                                                                                                                        \r"
     ]
    },
    {
     "name": "stdout",
     "output_type": "stream",
     "text": [
      "Train Loss: 0.118643 | Val Loss: 0.110952\n",
      "Epoch 13/20 - Learning Rate: 0.001000\n"
     ]
    },
    {
     "name": "stderr",
     "output_type": "stream",
     "text": [
      "                                                                                                                        \r"
     ]
    },
    {
     "name": "stdout",
     "output_type": "stream",
     "text": [
      "Train Loss: 0.118638 | Val Loss: 0.110589\n",
      "Epoch 14/20 - Learning Rate: 0.001000\n"
     ]
    },
    {
     "name": "stderr",
     "output_type": "stream",
     "text": [
      "                                                                                                                        \r"
     ]
    },
    {
     "name": "stdout",
     "output_type": "stream",
     "text": [
      "Train Loss: 0.118110 | Val Loss: 0.110727\n",
      "Epoch 15/20 - Learning Rate: 0.001000\n"
     ]
    },
    {
     "name": "stderr",
     "output_type": "stream",
     "text": [
      "                                                                                                                        \r"
     ]
    },
    {
     "name": "stdout",
     "output_type": "stream",
     "text": [
      "Train Loss: 0.118313 | Val Loss: 0.110715\n",
      "Epoch 16/20 - Learning Rate: 0.001000\n"
     ]
    },
    {
     "name": "stderr",
     "output_type": "stream",
     "text": [
      "                                                                                                                        \r"
     ]
    },
    {
     "name": "stdout",
     "output_type": "stream",
     "text": [
      "Train Loss: 0.118133 | Val Loss: 0.111447\n",
      "Epoch 17/20 - Learning Rate: 0.001000\n"
     ]
    },
    {
     "name": "stderr",
     "output_type": "stream",
     "text": [
      "                                                                                                                        \r"
     ]
    },
    {
     "name": "stdout",
     "output_type": "stream",
     "text": [
      "Train Loss: 0.117929 | Val Loss: 0.110306\n",
      "Epoch 18/20 - Learning Rate: 0.001000\n"
     ]
    },
    {
     "name": "stderr",
     "output_type": "stream",
     "text": [
      "                                                                                                                        \r"
     ]
    },
    {
     "name": "stdout",
     "output_type": "stream",
     "text": [
      "Train Loss: 0.118067 | Val Loss: 0.110993\n",
      "Epoch 19/20 - Learning Rate: 0.001000\n"
     ]
    },
    {
     "name": "stderr",
     "output_type": "stream",
     "text": [
      "                                                                                                                        \r"
     ]
    },
    {
     "name": "stdout",
     "output_type": "stream",
     "text": [
      "Train Loss: 0.117708 | Val Loss: 0.109832\n",
      "Epoch 20/20 - Learning Rate: 0.001000\n"
     ]
    },
    {
     "name": "stderr",
     "output_type": "stream",
     "text": [
      "                                                                                                                        "
     ]
    },
    {
     "name": "stdout",
     "output_type": "stream",
     "text": [
      "Train Loss: 0.117736 | Val Loss: 0.109870\n"
     ]
    },
    {
     "name": "stderr",
     "output_type": "stream",
     "text": [
      "\r"
     ]
    }
   ],
   "source": [
    "epochs = 20\n",
    "swin_multi_train_losses = []\n",
    "swin_multi_val_losses = []\n",
    "\n",
    "#scheduler = torch.optim.lr_scheduler.CosineAnnealingLR(optimizer, T_max = epochs)\n",
    "\n",
    "for epoch in range(epochs):\n",
    "    current_lr = optimizer.param_groups[0]['lr']\n",
    "    print(f\"Epoch {epoch+1}/{epochs} - Learning Rate: {current_lr:.6f}\")\n",
    "\n",
    "    train_loss = AF.training_epoch(swin_multi, swin_multi_train_loader, optimizer, criterion, device, unsqueezeY = False)\n",
    "    val_loss = AF.evaluation_epoch(swin_multi, swin_multi_val_loader, criterion, device, desc = 'validation', unsqueezeY = False)\n",
    "\n",
    "    # Step the scheduler\n",
    "    #scheduler.step()\n",
    "\n",
    "    print(f\"Train Loss: {train_loss:.6f} | Val Loss: {val_loss:.6f}\")\n",
    "\n",
    "    swin_multi_train_losses.append(train_loss)\n",
    "    swin_multi_val_losses.append(val_loss)"
   ]
  },
  {
   "cell_type": "code",
   "execution_count": 40,
   "id": "696d7e6c-5e06-4b96-a1e6-940dc2799d4d",
   "metadata": {},
   "outputs": [
    {
     "data": {
      "text/plain": [
       "Text(0, 0.5, 'Loss')"
      ]
     },
     "execution_count": 40,
     "metadata": {},
     "output_type": "execute_result"
    },
    {
     "data": {
      "image/png": "[encoded data removed]",
      "text/plain": [
       "<Figure size 800x600 with 1 Axes>"
      ]
     },
     "metadata": {},
     "output_type": "display_data"
    }
   ],
   "source": [
    "if epoch+1 == epochs:\n",
    "    ep = epochs\n",
    "else:\n",
    "    ep = epoch\n",
    "fig, ax = plt.subplots(figsize=(8, 6))\n",
    "ax.plot(np.arange(ep), swin_multi_train_losses, label=\"Training\")\n",
    "ax.plot(np.arange(ep), swin_multi_val_losses, label=\"Validation\")\n",
    "ax.legend()\n",
    "ax.set_xlabel(\"Epoch\")\n",
    "ax.set_ylabel(\"Loss\")"
   ]
  },
  {
   "cell_type": "code",
   "execution_count": null,
   "id": "21fcbb2c-3a7a-4e8a-92e3-87aa085aca5b",
   "metadata": {},
   "outputs": [],
   "source": []
  }
 ],
 "metadata": {
  "@webio": {
   "lastCommId": null,
   "lastKernelId": null
  },
  "kernelspec": {
   "display_name": "Python 3 (ipykernel)",
   "language": "python",
   "name": "python3"
  },
  "language_info": {
   "codemirror_mode": {
    "name": "ipython",
    "version": 3
   },
   "file_extension": ".py",
   "mimetype": "text/x-python",
   "name": "python",
   "nbconvert_exporter": "python",
   "pygments_lexer": "ipython3",
   "version": "3.11.7"
  }
 },
 "nbformat": 4,
 "nbformat_minor": 5
}
